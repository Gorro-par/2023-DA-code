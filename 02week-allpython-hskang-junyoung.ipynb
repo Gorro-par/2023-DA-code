{
 "cells": [
  {
   "cell_type": "code",
   "execution_count": 1,
   "id": "b9f04cc2",
   "metadata": {},
   "outputs": [
    {
     "name": "stdout",
     "output_type": "stream",
     "text": [
      "70\n"
     ]
    }
   ],
   "source": [
    "print(10*7)"
   ]
  },
  {
   "cell_type": "code",
   "execution_count": 3,
   "id": "dbd8a35d",
   "metadata": {},
   "outputs": [
    {
     "name": "stdout",
     "output_type": "stream",
     "text": [
      "Hi. everyone\n"
     ]
    }
   ],
   "source": [
    "print('Hi. everyone')"
   ]
  },
  {
   "cell_type": "code",
   "execution_count": 5,
   "id": "c44b6580",
   "metadata": {},
   "outputs": [
    {
     "name": "stdout",
     "output_type": "stream",
     "text": [
      "Hi. everyone\n"
     ]
    }
   ],
   "source": [
    "print(\"Hi. everyone\")"
   ]
  },
  {
   "cell_type": "code",
   "execution_count": 6,
   "id": "f953b8ca",
   "metadata": {},
   "outputs": [
    {
     "name": "stdout",
     "output_type": "stream",
     "text": [
      "2024\n"
     ]
    }
   ],
   "source": [
    "a = 2024\n",
    "print(a)"
   ]
  },
  {
   "cell_type": "code",
   "execution_count": 7,
   "id": "2b5e587e",
   "metadata": {},
   "outputs": [
    {
     "name": "stdout",
     "output_type": "stream",
     "text": [
      "2024 2054 6\n"
     ]
    }
   ],
   "source": [
    "print(a,a+30, 3*2)"
   ]
  },
  {
   "cell_type": "code",
   "execution_count": 9,
   "id": "b7b0cd23",
   "metadata": {},
   "outputs": [
    {
     "name": "stdout",
     "output_type": "stream",
     "text": [
      "여러분안녕하세요\n"
     ]
    }
   ],
   "source": [
    "b = '여러분'\n",
    "print(b +  '안녕하세요')"
   ]
  },
  {
   "cell_type": "code",
   "execution_count": 10,
   "id": "6156eb14",
   "metadata": {},
   "outputs": [
    {
     "name": "stdout",
     "output_type": "stream",
     "text": [
      "여러분 안녕하세요\n"
     ]
    }
   ],
   "source": [
    "print(b, '안녕하세요')"
   ]
  },
  {
   "cell_type": "code",
   "execution_count": 11,
   "id": "b5d67199",
   "metadata": {},
   "outputs": [
    {
     "ename": "TypeError",
     "evalue": "bad operand type for unary +: 'str'",
     "output_type": "error",
     "traceback": [
      "\u001b[1;31m---------------------------------------------------------------------------\u001b[0m",
      "\u001b[1;31mTypeError\u001b[0m                                 Traceback (most recent call last)",
      "\u001b[1;32m~\\AppData\\Local\\Temp\\ipykernel_5736\\3083592356.py\u001b[0m in \u001b[0;36m<module>\u001b[1;34m\u001b[0m\n\u001b[0;32m      1\u001b[0m \u001b[0mc\u001b[0m \u001b[1;33m=\u001b[0m \u001b[1;34m'새해'\u001b[0m\u001b[1;33m\u001b[0m\u001b[1;33m\u001b[0m\u001b[0m\n\u001b[1;32m----> 2\u001b[1;33m \u001b[0mprint\u001b[0m\u001b[1;33m(\u001b[0m\u001b[0ma\u001b[0m\u001b[1;33m,\u001b[0m\u001b[1;34m'년에도'\u001b[0m\u001b[1;33m,\u001b[0m \u001b[1;33m+\u001b[0m \u001b[0mc\u001b[0m \u001b[1;33m+\u001b[0m \u001b[1;34m'복많이받으세요'\u001b[0m\u001b[1;33m)\u001b[0m\u001b[1;33m\u001b[0m\u001b[1;33m\u001b[0m\u001b[0m\n\u001b[0m",
      "\u001b[1;31mTypeError\u001b[0m: bad operand type for unary +: 'str'"
     ]
    }
   ],
   "source": [
    " c = '새해'\n",
    " print(a,'년에도', + c + '복많이받으세요')"
   ]
  },
  {
   "cell_type": "code",
   "execution_count": 12,
   "id": "a8130a7d",
   "metadata": {},
   "outputs": [
    {
     "name": "stdout",
     "output_type": "stream",
     "text": [
      "이름입력 >> 홍길동\n"
     ]
    }
   ],
   "source": [
    " name = input('이름입력 >> ')"
   ]
  },
  {
   "cell_type": "code",
   "execution_count": 13,
   "id": "6377990a",
   "metadata": {},
   "outputs": [
    {
     "data": {
      "text/plain": [
       "'홍길동'"
      ]
     },
     "execution_count": 13,
     "metadata": {},
     "output_type": "execute_result"
    }
   ],
   "source": [
    "name"
   ]
  },
  {
   "cell_type": "code",
   "execution_count": 14,
   "id": "bb6e500a",
   "metadata": {},
   "outputs": [
    {
     "name": "stdout",
     "output_type": "stream",
     "text": [
      "홍길동님 안녕하세요\n"
     ]
    }
   ],
   "source": [
    "print(name + '님 안녕하세요')"
   ]
  },
  {
   "cell_type": "code",
   "execution_count": 15,
   "id": "73879579",
   "metadata": {},
   "outputs": [
    {
     "name": "stdout",
     "output_type": "stream",
     "text": [
      "출생년도 입력 >>2003\n"
     ]
    }
   ],
   "source": [
    "birth = input('출생년도 입력 >>')"
   ]
  },
  {
   "cell_type": "code",
   "execution_count": 16,
   "id": "713d478c",
   "metadata": {},
   "outputs": [
    {
     "ename": "TypeError",
     "evalue": "unsupported operand type(s) for -: 'int' and 'str'",
     "output_type": "error",
     "traceback": [
      "\u001b[1;31m---------------------------------------------------------------------------\u001b[0m",
      "\u001b[1;31mTypeError\u001b[0m                                 Traceback (most recent call last)",
      "\u001b[1;32m~\\AppData\\Local\\Temp\\ipykernel_5736\\1086647213.py\u001b[0m in \u001b[0;36m<module>\u001b[1;34m\u001b[0m\n\u001b[1;32m----> 1\u001b[1;33m \u001b[1;36m2023\u001b[0m\u001b[1;33m-\u001b[0m\u001b[0mbirth\u001b[0m\u001b[1;33m\u001b[0m\u001b[1;33m\u001b[0m\u001b[0m\n\u001b[0m",
      "\u001b[1;31mTypeError\u001b[0m: unsupported operand type(s) for -: 'int' and 'str'"
     ]
    }
   ],
   "source": [
    "2023-birth"
   ]
  },
  {
   "cell_type": "code",
   "execution_count": 17,
   "id": "d1d62813",
   "metadata": {},
   "outputs": [
    {
     "data": {
      "text/plain": [
       "20"
      ]
     },
     "execution_count": 17,
     "metadata": {},
     "output_type": "execute_result"
    }
   ],
   "source": [
    "2023 - int(birth)"
   ]
  },
  {
   "cell_type": "code",
   "execution_count": 18,
   "id": "befb316b",
   "metadata": {},
   "outputs": [
    {
     "name": "stdout",
     "output_type": "stream",
     "text": [
      "20 세 이시군요\n"
     ]
    }
   ],
   "source": [
    "print(2023 -int(birth), '세 이시군요')"
   ]
  },
  {
   "cell_type": "code",
   "execution_count": 19,
   "id": "8f3bc276",
   "metadata": {},
   "outputs": [
    {
     "name": "stdout",
     "output_type": "stream",
     "text": [
      "이름입력 >> 박준영\n",
      "출생년도 입력 >>2003\n",
      "안녕하세요박준영님20세이시군요\n"
     ]
    }
   ],
   "source": [
    "name = input('이름입력 >> ')\n",
    "birth = input('출생년도 입력 >>')\n",
    "age = 2023 -int(birth)\n",
    "print('안녕하세요' + name + '님' + str(age) + '세이시군요')"
   ]
  },
  {
   "cell_type": "code",
   "execution_count": 20,
   "id": "5743cb41",
   "metadata": {},
   "outputs": [
    {
     "data": {
      "text/plain": [
       "False"
      ]
     },
     "execution_count": 20,
     "metadata": {},
     "output_type": "execute_result"
    }
   ],
   "source": [
    "bool('')"
   ]
  },
  {
   "cell_type": "code",
   "execution_count": 21,
   "id": "830ba3ac",
   "metadata": {},
   "outputs": [
    {
     "data": {
      "text/plain": [
       "True"
      ]
     },
     "execution_count": 21,
     "metadata": {},
     "output_type": "execute_result"
    }
   ],
   "source": [
    "bool(' ')"
   ]
  },
  {
   "cell_type": "code",
   "execution_count": 22,
   "id": "203368f8",
   "metadata": {},
   "outputs": [
    {
     "data": {
      "text/plain": [
       "False"
      ]
     },
     "execution_count": 22,
     "metadata": {},
     "output_type": "execute_result"
    }
   ],
   "source": [
    "bool(0)"
   ]
  },
  {
   "cell_type": "code",
   "execution_count": 24,
   "id": "57085de5",
   "metadata": {},
   "outputs": [
    {
     "data": {
      "text/plain": [
       "True"
      ]
     },
     "execution_count": 24,
     "metadata": {},
     "output_type": "execute_result"
    }
   ],
   "source": [
    "bool(-1)"
   ]
  },
  {
   "cell_type": "code",
   "execution_count": 26,
   "id": "7020f2b0",
   "metadata": {},
   "outputs": [
    {
     "data": {
      "text/plain": [
       "True"
      ]
     },
     "execution_count": 26,
     "metadata": {},
     "output_type": "execute_result"
    }
   ],
   "source": [
    "bool(0.01)"
   ]
  },
  {
   "cell_type": "code",
   "execution_count": 31,
   "id": "7989b9fa",
   "metadata": {},
   "outputs": [
    {
     "name": "stdout",
     "output_type": "stream",
     "text": [
      "0\n",
      "1\n",
      "2\n",
      "3\n",
      "4\n",
      "5\n",
      "6\n",
      "7\n",
      "8\n",
      "9\n"
     ]
    }
   ],
   "source": [
    "for num in range(10):\n",
    "    print(num)"
   ]
  },
  {
   "cell_type": "code",
   "execution_count": 34,
   "id": "17b8a7a3",
   "metadata": {},
   "outputs": [
    {
     "name": "stdout",
     "output_type": "stream",
     "text": [
      "80\n",
      "70\n",
      "90\n",
      "100\n"
     ]
    }
   ],
   "source": [
    "test_score = [80,70,90,100]\n",
    "for score in test_score:\n",
    "    print(score)"
   ]
  },
  {
   "cell_type": "code",
   "execution_count": 35,
   "id": "8ad759e6",
   "metadata": {},
   "outputs": [
    {
     "name": "stdout",
     "output_type": "stream",
     "text": [
      "국어\n",
      "영어\n",
      "수학\n",
      "과학\n"
     ]
    }
   ],
   "source": [
    "test_name = ['국어', '영어','수학', '과학']\n",
    "for name in test_name:\n",
    "    print(name)"
   ]
  },
  {
   "cell_type": "code",
   "execution_count": 37,
   "id": "ca9540e6",
   "metadata": {},
   "outputs": [
    {
     "name": "stdout",
     "output_type": "stream",
     "text": [
      "ㅎㅇ\n"
     ]
    }
   ],
   "source": [
    "if(10 > 0):\n",
    "    print('ㅎㅇ')"
   ]
  },
  {
   "cell_type": "code",
   "execution_count": 42,
   "id": "ac545a7f",
   "metadata": {},
   "outputs": [
    {
     "name": "stdout",
     "output_type": "stream",
     "text": [
      "비번입력11111\n",
      "관리자권한.\n"
     ]
    }
   ],
   "source": [
    "password = input('비번입력')\n",
    "if(int(password) == 12345):\n",
    "    print('로그인 완료')\n",
    "elif(int(password) == 11111):\n",
    "    print('관리자권한.')\n",
    "else:\n",
    "    print('로그인실패')"
   ]
  },
  {
   "cell_type": "code",
   "execution_count": 44,
   "id": "3458a79b",
   "metadata": {},
   "outputs": [
    {
     "name": "stdout",
     "output_type": "stream",
     "text": [
      "['월', '화', '수', '목', '금']\n"
     ]
    }
   ],
   "source": [
    "arr2 = ['월','화','수','목','금']\n",
    "print(arr2)"
   ]
  },
  {
   "cell_type": "code",
   "execution_count": 48,
   "id": "60b0f267",
   "metadata": {},
   "outputs": [
    {
     "name": "stdout",
     "output_type": "stream",
     "text": [
      "토\n",
      "금\n",
      "목\n",
      "수\n",
      "화\n"
     ]
    }
   ],
   "source": [
    "arr2 = ['월','화','수','목','금','토']\n",
    "print(arr2[-1])\n",
    "print(arr2[-2])\n",
    "print(arr2[-3])\n",
    "print(arr2[-4])\n",
    "print(arr2[-5])\n",
    "print(arr2[-6])"
   ]
  },
  {
   "cell_type": "code",
   "execution_count": 50,
   "id": "7cd4dae1",
   "metadata": {},
   "outputs": [
    {
     "name": "stdout",
     "output_type": "stream",
     "text": [
      "['월', '화']\n",
      "['화', '수', '목']\n",
      "['화', '수', '목', '금', '토']\n",
      "['월', '화', '수']\n",
      "['월', '화', '수', '목', '금', '토']\n"
     ]
    }
   ],
   "source": [
    "arr2 = ['월','화','수','목','금','토']\n",
    "print(arr2[0:2])\n",
    "print(arr2[1:4])\n",
    "print(arr2[1:])\n",
    "print(arr2[:3])\n",
    "print(arr2[:])"
   ]
  },
  {
   "cell_type": "code",
   "execution_count": 51,
   "id": "05eeb29f",
   "metadata": {},
   "outputs": [
    {
     "name": "stdout",
     "output_type": "stream",
     "text": [
      "[1, 2, 3, 4, 5]\n",
      "5\n",
      "[1, 2, 3, 4, 5, 6]\n",
      "6\n"
     ]
    }
   ],
   "source": [
    "arr1 = [1,2,3,4,5]\n",
    "print(arr1)\n",
    "print(len(arr1))\n",
    "arr1.append(6)\n",
    "print(arr1)\n",
    "print(len(arr1))"
   ]
  },
  {
   "cell_type": "code",
   "execution_count": 53,
   "id": "df93edb1",
   "metadata": {},
   "outputs": [
    {
     "name": "stdout",
     "output_type": "stream",
     "text": [
      "['월', '화', '수', '목', '금', '토']\n",
      "6\n",
      "['월', '화', '수', '목', '금', '토', '일']\n",
      "7\n"
     ]
    }
   ],
   "source": [
    "arr2 = ['월','화','수','목','금','토']\n",
    "print(arr2)\n",
    "print(len(arr2))\n",
    "arr2.append('일')\n",
    "print(arr2)\n",
    "print(len(arr2))"
   ]
  },
  {
   "cell_type": "code",
   "execution_count": 59,
   "id": "5f0e7174",
   "metadata": {},
   "outputs": [
    {
     "name": "stdout",
     "output_type": "stream",
     "text": [
      "숫자1 > 3\n",
      "숫자2 > 1\n",
      "3  숫자가 더 크다\n"
     ]
    }
   ],
   "source": [
    "a = input('숫자1 > ')\n",
    "b = input('숫자2 > ')\n",
    "if(a > b):\n",
    "    print(a, ' 숫자가 더 크다')\n",
    "else:\n",
    " print(b, ' 숫자가 더 크다')\n"
   ]
  },
  {
   "cell_type": "code",
   "execution_count": 77,
   "id": "8523bc97",
   "metadata": {},
   "outputs": [
    {
     "name": "stdout",
     "output_type": "stream",
     "text": [
      "다음 중 원하는 변환 선택하세요\n",
      "1. 섭씨 > 화씨\n",
      "2. 킬로미터 > 마일\n",
      "3. 파운드 > 킬로그램\n",
      "선택 : 1\n",
      "변환할 값 입력 : 42\n",
      "107.6\n"
     ]
    }
   ],
   "source": [
    "def celsius_to_fahrenheit(celsius):\n",
    "    return (celsius*9/5) + 32\n",
    "\n",
    "def kilometers_to_miles(kilometers):\n",
    "    return kilometers * 0.621371\n",
    "\n",
    "def poundes_to_kilograms(pounds):\n",
    "    return pounds * 0.453592\n",
    "\n",
    "print('다음 중 원하는 변환 선택하세요')\n",
    "print('1. 섭씨 > 화씨')\n",
    "print('2. 킬로미터 > 마일')\n",
    "print('3. 파운드 > 킬로그램')\n",
    "a = input('선택 : ')\n",
    "b = int(input('변환할 값 입력 : '))\n",
    "if(a == '1'):\n",
    "    print(celsius_to_fahrenheit(b))\n",
    "elif(a == '2'):\n",
    "    print(kilometers_to_miles(b))\n",
    "elif(a == '3'):\n",
    "    print(poundes_to_kilograms(b))\n",
    "else:\n",
    "    print(a, ' 값이 잘못되었습니다. 다시입력')"
   ]
  },
  {
   "cell_type": "code",
   "execution_count": null,
   "id": "dec6f3b8",
   "metadata": {},
   "outputs": [],
   "source": []
  }
 ],
 "metadata": {
  "kernelspec": {
   "display_name": "Python 3 (ipykernel)",
   "language": "python",
   "name": "python3"
  },
  "language_info": {
   "codemirror_mode": {
    "name": "ipython",
    "version": 3
   },
   "file_extension": ".py",
   "mimetype": "text/x-python",
   "name": "python",
   "nbconvert_exporter": "python",
   "pygments_lexer": "ipython3",
   "version": "3.9.13"
  }
 },
 "nbformat": 4,
 "nbformat_minor": 5
}
